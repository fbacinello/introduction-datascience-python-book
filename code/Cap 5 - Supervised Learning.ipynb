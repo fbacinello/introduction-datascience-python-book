{
 "cells": [
  {
   "cell_type": "code",
   "execution_count": 1,
   "metadata": {},
   "outputs": [],
   "source": [
    "import pandas as pd\n",
    "import numpy as np\n",
    "import matplotlib.pyplot as plt\n",
    "import pickle"
   ]
  },
  {
   "cell_type": "code",
   "execution_count": 3,
   "metadata": {},
   "outputs": [],
   "source": [
    "ofname = open('../files/ch05/dataset_small.pkl', 'r')\n",
    "# x stores input data and y target values\n",
    "(x,y) = pickle.load(ofname)"
   ]
  },
  {
   "cell_type": "code",
   "execution_count": 7,
   "metadata": {},
   "outputs": [
    {
     "name": "stdout",
     "output_type": "stream",
     "text": [
      "dims: 15, samples: 4140\n"
     ]
    }
   ],
   "source": [
    "dims = x.shape [1]\n",
    "N = x.shape [0]\n",
    "print('dims: ' + str(dims) + ', samples: ' + str(N))"
   ]
  },
  {
   "cell_type": "code",
   "execution_count": 36,
   "metadata": {},
   "outputs": [
    {
     "name": "stdout",
     "output_type": "stream",
     "text": [
      "Predicted value: -1.0\n",
      "Real target: -1.0\n"
     ]
    }
   ],
   "source": [
    "from sklearn import neighbors\n",
    "from sklearn import datasets\n",
    "\n",
    "# Create an instance of k-nearest neigbor classifier\n",
    "knn = neighbors.KNeighborsClassifier(n_neighbors = 11)\n",
    "# Train the classifier\n",
    "knn.fit(x, y)\n",
    "# Compute the prediction according to the model\n",
    "yhat = knn.predict(x)\n",
    "# Check the result on the last example\n",
    "print('Predicted value: ' + str(yhat[-1]))\n",
    "print('Real target: ' + str(y[-1]))"
   ]
  },
  {
   "cell_type": "code",
   "execution_count": 37,
   "metadata": {},
   "outputs": [
    {
     "name": "stdout",
     "output_type": "stream",
     "text": [
      "Accuracy: 0.8316425120772947\n"
     ]
    }
   ],
   "source": [
    "acc = knn.score(x,y)\n",
    "print('Accuracy: ' + str(acc))"
   ]
  },
  {
   "cell_type": "code",
   "execution_count": 38,
   "metadata": {},
   "outputs": [
    {
     "data": {
      "image/png": "[encoded data removed]",
      "text/plain": [
       "<Figure size 504x504 with 1 Axes>"
      ]
     },
     "metadata": {},
     "output_type": "display_data"
    }
   ],
   "source": [
    "plt.pie(np.c_[np.sum(np.where(y == 1, 1, 0)),\n",
    "             np.sum(np.where(y == -1, 1, 0))][0],\n",
    "       labels = ['Not fully funded', 'Full amount'],\n",
    "       colors = ['g', 'r'], shadow = False,\n",
    "       autopct = '%.2f')\n",
    "plt.gcf().set_size_inches((7, 7))"
   ]
  },
  {
   "cell_type": "code",
   "execution_count": 39,
   "metadata": {},
   "outputs": [
    {
     "name": "stdout",
     "output_type": "stream",
     "text": [
      "('TP: 3370', 'FP: 690')\n",
      "('FN: 7', 'TN: 73')\n"
     ]
    }
   ],
   "source": [
    "yhat = knn.predict(x)\n",
    "TP = np.sum(np.logical_and(yhat == -1, y == -1))\n",
    "TN = np.sum(np.logical_and(yhat == 1, y == 1))\n",
    "FP = np.sum(np.logical_and(yhat == -1, y == 1))\n",
    "FN = np.sum(np.logical_and(yhat == 1, y == -1))\n",
    "\n",
    "print('TP: ' + str(TP), 'FP: ' + str(FP))\n",
    "print('FN: ' + str(FN), 'TN: ' + str(TN))"
   ]
  },
  {
   "cell_type": "code",
   "execution_count": 40,
   "metadata": {},
   "outputs": [
    {
     "data": {
      "text/plain": [
       "array([[3370,  690],\n",
       "       [   7,   73]], dtype=int64)"
      ]
     },
     "execution_count": 40,
     "metadata": {},
     "output_type": "execute_result"
    }
   ],
   "source": [
    "#Scikit-learn provides a method for the confusion matrix\n",
    "from sklearn import metrics\n",
    "metrics.confusion_matrix(yhat, y)"
   ]
  },
  {
   "cell_type": "code",
   "execution_count": 41,
   "metadata": {},
   "outputs": [
    {
     "name": "stdout",
     "output_type": "stream",
     "text": [
      "Classification accuracy: 1.0\n",
      "Confussion matrix: \n",
      "[[3377    0]\n",
      " [   0  763]]\n"
     ]
    }
   ],
   "source": [
    "# Train a classifier using .fit()\n",
    "knn = neighbors.KNeighborsClassifier(n_neighbors = 1)\n",
    "knn.fit(x, y)\n",
    "yhat = knn.predict(x)\n",
    "\n",
    "print('Classification accuracy: ' + str(metrics.accuracy_score(yhat, y)))\n",
    "print('Confussion matrix: \\n' + str(metrics.confusion_matrix(yhat, y)))"
   ]
  },
  {
   "cell_type": "code",
   "execution_count": 42,
   "metadata": {},
   "outputs": [],
   "source": [
    "# Simulate a real case: Ransomize and split data into\n",
    "# two subsets PRC*100\\% for training and the rest\n",
    "# (1-PRC)*100\\% for testing\n",
    "\n",
    "perm = np.random.permutation(y.size)\n",
    "PRC = 0.7\n",
    "split_point = int(np.ceil(y.shape[0]*PRC))\n",
    "\n",
    "X_train = x[perm[:split_point].ravel(), :]\n",
    "Y_train = y[perm[:split_point].ravel()]\n",
    "\n",
    "X_test = x[perm[split_point:].ravel(), :]\n",
    "Y_test = y[perm[split_point:].ravel()]"
   ]
  },
  {
   "cell_type": "code",
   "execution_count": 43,
   "metadata": {},
   "outputs": [
    {
     "name": "stdout",
     "output_type": "stream",
     "text": [
      "('Training shape: (2898L, 15L)', 'Training target shape: (2898L,)')\n",
      "('Testing shape: (1242L, 15L)', 'Testing target shape: (1242L,)')\n"
     ]
    }
   ],
   "source": [
    "print('Training shape: ' + str(X_train.shape),\n",
    "      'Training target shape: ' + str(Y_train.shape))\n",
    "print('Testing shape: ' + str(X_test.shape),\n",
    "      'Testing target shape: ' + str(Y_test.shape))"
   ]
  },
  {
   "cell_type": "code",
   "execution_count": 45,
   "metadata": {},
   "outputs": [
    {
     "name": "stdout",
     "output_type": "stream",
     "text": [
      "TRAININ STATS:\n",
      "Classification accuracy: 1.0\n",
      "Confusion matrix: \n",
      "[[2350    0]\n",
      " [   0  548]]\n"
     ]
    }
   ],
   "source": [
    "# Train a classifier on training data\n",
    "knn = neighbors.KNeighborsClassifier(n_neighbors = 1)\n",
    "knn.fit(X_train, Y_train)\n",
    "yhat = knn.predict(X_train)\n",
    "\n",
    "print('TRAININ STATS:')\n",
    "print('Classification accuracy: ' + str(metrics.accuracy_score(yhat, Y_train)))\n",
    "print('Confusion matrix: \\n' + str(metrics.confusion_matrix(Y_train, yhat)))"
   ]
  },
  {
   "cell_type": "code",
   "execution_count": 46,
   "metadata": {},
   "outputs": [
    {
     "name": "stdout",
     "output_type": "stream",
     "text": [
      "TESTING STATS\n",
      "('classification accuracy: ', 0.7536231884057971)\n",
      "confusion matrix: \n",
      "[[864 143]\n",
      " [163  72]]\n"
     ]
    }
   ],
   "source": [
    "# Check on the test set\n",
    "yhat = knn.predict(X_test)\n",
    "print('TESTING STATS')\n",
    "print('classification accuracy: ', metrics.accuracy_score(yhat, Y_test))\n",
    "print('confusion matrix: \\n' + str(metrics.confusion_matrix(yhat, Y_test)))"
   ]
  },
  {
   "cell_type": "code",
   "execution_count": 57,
   "metadata": {},
   "outputs": [
    {
     "name": "stdout",
     "output_type": "stream",
     "text": [
      "Mean expected error: 0.760144927536232\n"
     ]
    }
   ],
   "source": [
    "# Splitting done by using the tools provided by sklearn\n",
    "from sklearn.model_selection import train_test_split\n",
    "\n",
    "PRC = 0.3\n",
    "acc = np.zeros((10,))\n",
    "\n",
    "for i in xrange(10):\n",
    "    X_train, X_test, Y_train ,Y_test = train_test_split(x, y, test_size = PRC)\n",
    "    knn = neighbors.KNeighborsClassifier(n_neighbors = 1)\n",
    "    knn.fit(X_train, Y_train)\n",
    "    yhat = knn.predict(X_test)\n",
    "    acc[i] = metrics.accuracy_score(yhat, Y_test)\n",
    "\n",
    "acc.shape = (1, 10)\n",
    "print('Mean expected error: ' + str(np.mean(acc[0])))"
   ]
  },
  {
   "cell_type": "code",
   "execution_count": 67,
   "metadata": {},
   "outputs": [],
   "source": [
    "from sklearn import tree\n",
    "from sklearn import svm\n",
    "\n",
    "PRC = 0.1\n",
    "acc_r = np.zeros((10, 4))\n",
    "for i in xrange(10): \n",
    "    X_train, X_test, Y_train, Y_test = train_test_split(x, y, test_size = PRC)\n",
    "    nn1 = neighbors.KNeighborsClassifier(n_neighbors = 1)\n",
    "    nn3 = neighbors.KNeighborsClassifier(n_neighbors = 3)\n",
    "    svc = svm.SVC(gamma = 'auto')\n",
    "    dt = tree.DecisionTreeClassifier()\n",
    "    \n",
    "    nn1.fit(X_train, Y_train)\n",
    "    nn3.fit(X_train, Y_train)\n",
    "    svc.fit(X_train, Y_train)\n",
    "    dt.fit(X_train, Y_train)\n",
    "    \n",
    "    yhat_nn1 = nn1.predict(X_test)\n",
    "    yhat_nn3 = nn3.predict(X_test)\n",
    "    yhat_svc = svc.predict(X_test)\n",
    "    yhat_dt = dt.predict(X_test)\n",
    "    \n",
    "    acc_r[i][0] = metrics.accuracy_score(yhat_nn1, Y_test)\n",
    "    acc_r[i][1] = metrics.accuracy_score(yhat_nn3, Y_test)\n",
    "    acc_r[i][2] = metrics.accuracy_score(yhat_svc, Y_test)\n",
    "    acc_r[i][3] = metrics.accuracy_score(yhat_dt, Y_test)\n",
    "\n",
    "# EN EL LIBRO HAY UN GRAFICO QUE NO MUESTRAN EL CODIGO\n",
    "# PODRIA TRATAR DE HACERLO\n",
    "# PAGINA 77"
   ]
  },
  {
   "cell_type": "code",
   "execution_count": null,
   "metadata": {},
   "outputs": [],
   "source": []
  }
 ],
 "metadata": {
  "kernelspec": {
   "display_name": "Python 2",
   "language": "python",
   "name": "python2"
  },
  "language_info": {
   "codemirror_mode": {
    "name": "ipython",
    "version": 2
   },
   "file_extension": ".py",
   "mimetype": "text/x-python",
   "name": "python",
   "nbconvert_exporter": "python",
   "pygments_lexer": "ipython2",
   "version": "2.7.16"
  }
 },
 "nbformat": 4,
 "nbformat_minor": 2
}
