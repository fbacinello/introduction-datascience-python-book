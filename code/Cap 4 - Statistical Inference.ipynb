{
 "cells": [
  {
   "cell_type": "code",
   "execution_count": 38,
   "metadata": {},
   "outputs": [],
   "source": [
    "import pandas as pd\n",
    "import numpy as np\n",
    "import matplotlib.pyplot as plt\n",
    "import math"
   ]
  },
  {
   "cell_type": "code",
   "execution_count": 32,
   "metadata": {},
   "outputs": [
    {
     "name": "stdout",
     "output_type": "stream",
     "text": [
      "Mean: 25.90958904109589\n"
     ]
    }
   ],
   "source": [
    "data = pd.read_csv('files/ch04/ACCIDENTS_GU_BCN_2013.csv', encoding='ANSI')\n",
    "data['Date'] = data['Dia de mes'].apply(lambda x: str(x)) + '-' + data[u'Mes de any'].apply(lambda x: str(x))\n",
    "data['Date'] = pd.to_datetime(data['Date'], format='%d-%m')\n",
    "accidents = data.groupby(['Date']).size()\n",
    "print('Mean: ' + str(accidents.mean()))"
   ]
  },
  {
   "cell_type": "code",
   "execution_count": 36,
   "metadata": {},
   "outputs": [],
   "source": [
    "# population\n",
    "df = accidents.to_frame()\n",
    "N_test = 10000\n",
    "elements = 200\n",
    "# mean array of samples\n",
    "means = [0] * N_test\n",
    "# sample generation\n",
    "for i in range(N_test):\n",
    "    rows = np.random.choice(df.index.values, elements)\n",
    "    sampled_df = df.loc[rows]\n",
    "    means[i] = sampled_df.mean()"
   ]
  },
  {
   "cell_type": "code",
   "execution_count": 43,
   "metadata": {},
   "outputs": [
    {
     "name": "stdout",
     "output_type": "stream",
     "text": [
      "Direct estimation of SE from one sample of 200 elemens : 0    0.621572\n",
      "dtype: float64\n",
      "Estimation fo the SE by simulating 10000 samples of 200 elements: 0.6457821824082792\n"
     ]
    }
   ],
   "source": [
    "rows = np.random.choice(df.index.values, 200)\n",
    "sampled_df = df.loc[rows]\n",
    "est_sigma_mean = sampled_df.std()/math.sqrt(200)\n",
    "\n",
    "print('Direct estimation of SE from one sample of 200 elemens :' ,\n",
    "      str(est_sigma_mean))\n",
    "print('Estimation fo the SE by simulating 10000 samples of 200 elements:',\n",
    "     str(np.array(means).std()))"
   ]
  },
  {
   "cell_type": "code",
   "execution_count": 45,
   "metadata": {},
   "outputs": [
    {
     "name": "stdout",
     "output_type": "stream",
     "text": [
      "Mean estimate: 25.913862465753425\n"
     ]
    }
   ],
   "source": [
    "def meanBootstrap(X, numberb):\n",
    "    x = [0]*numberb\n",
    "    for i in range(numberb):\n",
    "        sample = [X[j]\n",
    "                  for j in np.random.randint(len(X), size=len(X))\n",
    "                 ]\n",
    "        x[i] = np.mean(sample)\n",
    "    return x\n",
    "m = meanBootstrap(accidents, 10000)\n",
    "print('Mean estimate:', np.mean(m))"
   ]
  },
  {
   "cell_type": "code",
   "execution_count": 46,
   "metadata": {},
   "outputs": [
    {
     "name": "stdout",
     "output_type": "stream",
     "text": [
      "Confidence interval:  [24.975156065800284, 26.8440220163915]\n"
     ]
    }
   ],
   "source": [
    "m = accidents.mean()\n",
    "se = accidents.std()/math.sqrt(len(accidents))\n",
    "ci = [m - se*1.96, m + se*1.96]\n",
    "print('Confidence interval: ', ci)\n",
    "\n",
    "# COMO PRUEBA EL INTERVALO DE CONFIANZA PODRIA\n",
    "# GENERAR 1000 ESTIMACIONES DE LA MEDIA DE LA POBLACION\n",
    "# Y CONTRASTARLA CON LA MEDIA REAL PARA VER CUANTAS CAEN\n",
    "# EN EL INTERVALO DE CONFIANZA"
   ]
  },
  {
   "cell_type": "code",
   "execution_count": 48,
   "metadata": {},
   "outputs": [
    {
     "name": "stdout",
     "output_type": "stream",
     "text": [
      "Mean estimate: 25.91549890410959\n",
      "SE of the estimate: 0.47997786916197427\n",
      "Confidence interval:  [24.972602739726028, 26.86849315068493]\n"
     ]
    }
   ],
   "source": [
    "m = meanBootstrap(accidents, 10000)\n",
    "sample_mean = np.mean(m)\n",
    "sample_se = np.std(m)\n",
    "\n",
    "print('Mean estimate:', sample_mean)\n",
    "print('SE of the estimate:', sample_se)\n",
    "\n",
    "ci = [np.percentile(m, 2.5), np.percentile(m, 97.5)]\n",
    "print('Confidence interval: ', ci)"
   ]
  },
  {
   "cell_type": "code",
   "execution_count": 55,
   "metadata": {},
   "outputs": [
    {
     "name": "stdout",
     "output_type": "stream",
     "text": [
      "2010 Mean:  24.81095890410959\n",
      "2013 Mean:  25.90958904109589\n"
     ]
    }
   ],
   "source": [
    "data = pd.read_csv('files/ch04/ACCIDENTS_GU_BCN_2010.csv',encoding = 'latin-1')\n",
    "# create new column which is the date\n",
    "data['Date'] = data['Dia de mes'].apply(lambda x: str(x)) + '-' + data[u'Mes de any'].apply(lambda x: str(x))\n",
    "data['Date'] = pd.to_datetime(data['Date'], format='%d-%m')\n",
    "data2= data['Date']\n",
    "\n",
    "counts2010 = data['Date'].value_counts()\n",
    "print('2010 Mean: ', counts2010.mean())\n",
    "\n",
    "data = pd.read_csv('files/ch04/ACCIDENTS_GU_BCN_2013.csv',encoding = 'latin-1')\n",
    "# create new column which is the date\n",
    "data['Date'] = data['Dia de mes'].apply(lambda x: str(x)) + '-' + data[u'Mes de any'].apply(lambda x: str(x))\n",
    "data['Date'] = pd.to_datetime(data['Date'], format='%d-%m')\n",
    "counts2013 = data['Date'].value_counts()\n",
    "print('2013 Mean: ', counts2013.mean())"
   ]
  },
  {
   "cell_type": "code",
   "execution_count": 57,
   "metadata": {},
   "outputs": [
    {
     "name": "stdout",
     "output_type": "stream",
     "text": [
      "2010 accidents rate estimate:  24.81095890410959\n",
      "2013 accidents rate estimate:  25.90958904109589\n",
      "CI for 2013:  [24.975156065800284, 26.8440220163915]\n"
     ]
    }
   ],
   "source": [
    "n = len(counts2013)\n",
    "mean = counts2013.mean()\n",
    "s = counts2013.std()\n",
    "ci = [mean - s*1.96/np.sqrt(n), mean + s*1.96/np.sqrt(n)]\n",
    "\n",
    "print('2010 accidents rate estimate: ', counts2010.mean())\n",
    "print('2013 accidents rate estimate: ', counts2013.mean())\n",
    "print('CI for 2013: ', ci)"
   ]
  },
  {
   "cell_type": "code",
   "execution_count": null,
   "metadata": {},
   "outputs": [],
   "source": []
  }
 ],
 "metadata": {
  "kernelspec": {
   "display_name": "Python 3",
   "language": "python",
   "name": "python3"
  },
  "language_info": {
   "codemirror_mode": {
    "name": "ipython",
    "version": 3
   },
   "file_extension": ".py",
   "mimetype": "text/x-python",
   "name": "python",
   "nbconvert_exporter": "python",
   "pygments_lexer": "ipython3",
   "version": "3.7.3"
  }
 },
 "nbformat": 4,
 "nbformat_minor": 2
}
