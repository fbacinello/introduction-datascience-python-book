{
 "cells": [
  {
   "cell_type": "code",
   "execution_count": 6,
   "metadata": {},
   "outputs": [
    {
     "name": "stdout",
     "output_type": "stream",
     "text": [
      "[0, 1, 2, 3]\n"
     ]
    }
   ],
   "source": [
    "from IPython import parallel\n",
    "engines = parallel.Client()\n",
    "engines.block = True\n",
    "print(engines.ids)"
   ]
  },
  {
   "cell_type": "code",
   "execution_count": 8,
   "metadata": {},
   "outputs": [
    {
     "data": {
      "text/plain": [
       "<AsyncResult: execute:finished>"
      ]
     },
     "execution_count": 8,
     "metadata": {},
     "output_type": "execute_result"
    }
   ],
   "source": [
    "engines [0].execute('a = 2')\n",
    "engines [0].execute('b = 10')\n",
    "engines [0].execute('c = a + b')"
   ]
  },
  {
   "cell_type": "code",
   "execution_count": 9,
   "metadata": {},
   "outputs": [
    {
     "data": {
      "text/plain": [
       "12"
      ]
     },
     "execution_count": 9,
     "metadata": {},
     "output_type": "execute_result"
    }
   ],
   "source": [
    "engines[0].pull('c')"
   ]
  },
  {
   "cell_type": "code",
   "execution_count": 11,
   "metadata": {},
   "outputs": [
    {
     "data": {
      "text/plain": [
       "<AsyncResult: execute:finished>"
      ]
     },
     "execution_count": 11,
     "metadata": {},
     "output_type": "execute_result"
    }
   ],
   "source": [
    "# Parallelization\n",
    "\n",
    "engines[0].execute('a = 2')\n",
    "engines[0].execute('b = 10')\n",
    "engines[1].execute('a = 9')\n",
    "engines[1].execute('b = 7')\n",
    "engines[0:2].execute('c = a + b')"
   ]
  },
  {
   "cell_type": "code",
   "execution_count": 14,
   "metadata": {},
   "outputs": [
    {
     "data": {
      "text/plain": [
       "[12, 16]"
      ]
     },
     "execution_count": 14,
     "metadata": {},
     "output_type": "execute_result"
    }
   ],
   "source": [
    "engines [0:2]. pull('c')"
   ]
  },
  {
   "cell_type": "code",
   "execution_count": 16,
   "metadata": {},
   "outputs": [],
   "source": [
    "dview2 = engines[0:2]\n",
    "dview = engines.direct_view()"
   ]
  },
  {
   "cell_type": "code",
   "execution_count": 22,
   "metadata": {},
   "outputs": [],
   "source": [
    "import random\n",
    "A0 = [[random.random() for e in range(3)] for e in range(3)]\n",
    "A1 = [[random.random() for e in range(3)] for e in range(3)]\n",
    "B0 = [[random.random() for e in range(3)] for e in range(3)]\n",
    "B1 = [[random.random() for e in range(3)] for e in range(3)]"
   ]
  },
  {
   "cell_type": "code",
   "execution_count": 23,
   "metadata": {},
   "outputs": [
    {
     "data": {
      "text/plain": [
       "[array([[1.18624521, 0.73341464, 0.81530649],\n",
       "        [0.76392366, 0.45323444, 0.49769691],\n",
       "        [0.82361954, 0.54723302, 0.75634098]]),\n",
       " array([[0.69615155, 0.93910892, 0.47539599],\n",
       "        [1.03117888, 1.54323854, 1.09030936],\n",
       "        [0.42437927, 0.62654507, 0.29887277]])]"
      ]
     },
     "execution_count": 23,
     "metadata": {},
     "output_type": "execute_result"
    }
   ],
   "source": [
    "# haciendo todo a manopla\n",
    "\n",
    "dview2.execute('import numpy as np')\n",
    "engines [0]. push(dict(A=A0, B=B0))\n",
    "engines [1]. push(dict(A=A1, B=B1))\n",
    "dview2.execute('C = np.dot(A,B)')\n",
    "dview2.pull('C')"
   ]
  },
  {
   "cell_type": "code",
   "execution_count": 26,
   "metadata": {},
   "outputs": [
    {
     "data": {
      "text/plain": [
       "array([[1.18624521, 0.73341464, 0.81530649],\n",
       "       [0.76392366, 0.45323444, 0.49769691],\n",
       "       [0.82361954, 0.54723302, 0.75634098]])"
      ]
     },
     "execution_count": 26,
     "metadata": {},
     "output_type": "execute_result"
    }
   ],
   "source": [
    "# definiendo la funcion y mandandola con apply\n",
    "# apply hace directamente el push, execute y pull\n",
    "\n",
    "def mul(A, B):\n",
    "    import numpy as np\n",
    "    C = np.dot(A, B)\n",
    "    return C\n",
    "C = engines [0].apply(mul , A0 , B0)\n",
    "C"
   ]
  },
  {
   "cell_type": "code",
   "execution_count": 28,
   "metadata": {},
   "outputs": [
    {
     "data": {
      "text/plain": [
       "[array([[1.18624521, 0.73341464, 0.81530649],\n",
       "        [0.76392366, 0.45323444, 0.49769691],\n",
       "        [0.82361954, 0.54723302, 0.75634098]]),\n",
       " array([[0.69615155, 0.93910892, 0.47539599],\n",
       "        [1.03117888, 1.54323854, 1.09030936],\n",
       "        [0.42437927, 0.62654507, 0.29887277]])]"
      ]
     },
     "execution_count": 28,
     "metadata": {},
     "output_type": "execute_result"
    }
   ],
   "source": [
    "# mapeando para los distintos motores\n",
    "\n",
    "[C0 , C1] = dview2.map(mul ,[A0 , A1],[B0 , B1])\n",
    "[C0 , C1]"
   ]
  },
  {
   "cell_type": "code",
   "execution_count": 29,
   "metadata": {},
   "outputs": [],
   "source": [
    "# Load-Balanced View of Engines\n",
    "\n",
    "engines.block = True # we use the blocking mode since it simplifies the code.\n",
    "lview2 = engines.load_balanced_view(targets = [0, 1])\n",
    "lview = engines.load_balanced_view()"
   ]
  },
  {
   "cell_type": "code",
   "execution_count": null,
   "metadata": {},
   "outputs": [],
   "source": []
  }
 ],
 "metadata": {
  "kernelspec": {
   "display_name": "Python 3",
   "language": "python",
   "name": "python3"
  },
  "language_info": {
   "codemirror_mode": {
    "name": "ipython",
    "version": 3
   },
   "file_extension": ".py",
   "mimetype": "text/x-python",
   "name": "python",
   "nbconvert_exporter": "python",
   "pygments_lexer": "ipython3",
   "version": "3.7.3"
  }
 },
 "nbformat": 4,
 "nbformat_minor": 2
}
