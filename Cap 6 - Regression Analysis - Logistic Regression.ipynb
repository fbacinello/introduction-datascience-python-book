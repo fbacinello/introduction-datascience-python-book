{
 "cells": [
  {
   "cell_type": "code",
   "execution_count": 1,
   "metadata": {},
   "outputs": [],
   "source": [
    "import pandas as pd\n",
    "import numpy as np\n",
    "import matplotlib.pyplot as plt\n",
    "import seaborn as sns"
   ]
  },
  {
   "cell_type": "code",
   "execution_count": 22,
   "metadata": {},
   "outputs": [
    {
     "name": "stderr",
     "output_type": "stream",
     "text": [
      "C:\\Users\\Franco\\Anaconda2\\lib\\site-packages\\ipykernel_launcher.py:10: SettingWithCopyWarning: \n",
      "A value is trying to be set on a copy of a slice from a DataFrame.\n",
      "Try using .loc[row_indexer,col_indexer] = value instead\n",
      "\n",
      "See the caveats in the documentation: http://pandas.pydata.org/pandas-docs/stable/indexing.html#indexing-view-versus-copy\n",
      "  # Remove the CWD from sys.path while we load stuff.\n",
      "C:\\Users\\Franco\\Anaconda2\\lib\\site-packages\\ipykernel_launcher.py:11: SettingWithCopyWarning: \n",
      "A value is trying to be set on a copy of a slice from a DataFrame.\n",
      "Try using .loc[row_indexer,col_indexer] = value instead\n",
      "\n",
      "See the caveats in the documentation: http://pandas.pydata.org/pandas-docs/stable/indexing.html#indexing-view-versus-copy\n",
      "  # This is added back by InteractiveShellApp.init_path()\n"
     ]
    },
    {
     "data": {
      "text/plain": [
       "[<matplotlib.lines.Line2D at 0xede5a58>]"
      ]
     },
     "execution_count": 22,
     "metadata": {},
     "output_type": "execute_result"
    },
    {
     "data": {
      "image/png": "[encoded data removed]",
      "text/plain": [
       "<Figure size 432x288 with 1 Axes>"
      ]
     },
     "metadata": {
      "needs_background": "light"
     },
     "output_type": "display_data"
    }
   ],
   "source": [
    "from sklearn.linear_model import LogisticRegression\n",
    "data = pd.read_csv('files/ch06/SP1.csv')\n",
    "s = data[['HomeTeam', 'AwayTeam', 'FTHG', 'FTAG', 'FTR']]\n",
    "\n",
    "def my_f1(row):    \n",
    "    return max(row['FTHG'], row['FTAG'])\n",
    "def my_f2(row):\n",
    "    return min(row['FTHG'], row['FTAG'])\n",
    "\n",
    "s['W'] = s.apply(my_f1 , axis = 1)\n",
    "s['L'] = s.apply(my_f2, axis=1)\n",
    "\n",
    "x1 = s['W'].values\n",
    "y1 = np.ones(len(x1), dtype = np.int)\n",
    "x2 = s['L'].values\n",
    "y2 = np.zeros(len(x2), dtype = np.int)\n",
    "\n",
    "x = np.concatenate([x1, x2])\n",
    "x = x[:, np.newaxis]\n",
    "y = np.concatenate([y1, y2])\n",
    "\n",
    "logreg = LogisticRegression()\n",
    "logreg.fit(x, y)\n",
    "X_test = np.linspace(-5, 10, 300)\n",
    "\n",
    "def lr_model(x):\n",
    "    return 1 / (1+np.exp(-x))\n",
    "\n",
    "loss = lr_model(X_test*logreg.coef_ + logreg.intercept_).ravel()\n",
    "\n",
    "X_test2 = X_test[:, np.newaxis]\n",
    "losspred = logreg.predict(X_test2)\n",
    "\n",
    "plt.scatter(x.ravel(), y, color = 'black', s = 100, zorder = 20, alpha = 0.03)\n",
    "plt.plot(X_test, loss, color = 'blue', linewidth = 3)\n",
    "plt.plot(X_test, losspred, color = 'red', linewidth = 3)"
   ]
  }
 ],
 "metadata": {
  "kernelspec": {
   "display_name": "Python 2",
   "language": "python",
   "name": "python2"
  },
  "language_info": {
   "codemirror_mode": {
    "name": "ipython",
    "version": 2
   },
   "file_extension": ".py",
   "mimetype": "text/x-python",
   "name": "python",
   "nbconvert_exporter": "python",
   "pygments_lexer": "ipython2",
   "version": "2.7.16"
  }
 },
 "nbformat": 4,
 "nbformat_minor": 2
}
