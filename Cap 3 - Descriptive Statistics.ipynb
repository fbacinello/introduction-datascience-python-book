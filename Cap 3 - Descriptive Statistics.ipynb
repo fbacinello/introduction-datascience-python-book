{
 "cells": [
  {
   "cell_type": "code",
   "execution_count": 2,
   "metadata": {},
   "outputs": [],
   "source": [
    "import pandas as pd\n",
    "import numpy as np\n",
    "import matplotlib.pyplot as plt"
   ]
  },
  {
   "cell_type": "code",
   "execution_count": 3,
   "metadata": {},
   "outputs": [
    {
     "name": "stdout",
     "output_type": "stream",
     "text": [
      "[[50, 'Self-emp-not-inc', 83311, 'Bachelors', 13, 'Married-civ-spouse', 'Exec-managerial', 'Husband', 'White', 'Male', 0, 0, 13, 'United-States', '<=50K\\n']]\n"
     ]
    }
   ],
   "source": [
    "file = open('files/ch03/adult.data', 'r')\n",
    "\n",
    "def chr_int(a):\n",
    "    if a.isdigit(): return int(a)\n",
    "    else: return 0\n",
    "\n",
    "data = []\n",
    "for line in file:\n",
    "    data1 = line.split(', ')\n",
    "    if len(data1) == 15:\n",
    "        data.append([chr_int(data1[0]), data1[1],\n",
    "                     chr_int(data1[2]), data1[3],\n",
    "                     chr_int(data1[4]), data1[5],\n",
    "                     data1[6], data1[7], data1[8],\n",
    "                     data1[9],chr_int(data1[10]),\n",
    "                     chr_int(data1[11]),\n",
    "                     chr_int(data1[12]),\n",
    "                     data1[13], data1[14]\n",
    "        ])\n",
    "print(data[1:2])"
   ]
  },
  {
   "cell_type": "code",
   "execution_count": 4,
   "metadata": {},
   "outputs": [
    {
     "data": {
      "text/plain": [
       "(32561, 15)"
      ]
     },
     "execution_count": 4,
     "metadata": {},
     "output_type": "execute_result"
    }
   ],
   "source": [
    "df = pd.DataFrame(data)\n",
    "df.columns = [\n",
    "    'age', 'type_employer', 'fnlwgt',\n",
    "    'education', 'education_num', 'marital',\n",
    "    'occupation', ' relationship', 'race',\n",
    "    'sex', 'capital_gain', 'capital_loss',\n",
    "    'hr_per_week', 'country', 'income'\n",
    "]\n",
    "df.shape"
   ]
  },
  {
   "cell_type": "code",
   "execution_count": 5,
   "metadata": {},
   "outputs": [
    {
     "name": "stdout",
     "output_type": "stream",
     "text": [
      "country\n",
      "?                               583\n",
      "Cambodia                         19\n",
      "Canada                          121\n",
      "China                            75\n",
      "Columbia                         59\n",
      "Cuba                             95\n",
      "Dominican-Republic               70\n",
      "Ecuador                          28\n",
      "El-Salvador                     106\n",
      "England                          90\n",
      "France                           29\n",
      "Germany                         137\n",
      "Greece                           29\n",
      "Guatemala                        64\n",
      "Haiti                            44\n",
      "Holand-Netherlands                1\n",
      "Honduras                         13\n",
      "Hong                             20\n",
      "Hungary                          13\n",
      "India                           100\n",
      "Iran                             43\n",
      "Ireland                          24\n",
      "Italy                            73\n",
      "Jamaica                          81\n",
      "Japan                            62\n",
      "Laos                             18\n",
      "Mexico                          643\n",
      "Nicaragua                        34\n",
      "Outlying-US(Guam-USVI-etc)       14\n",
      "Peru                             31\n",
      "Philippines                     198\n",
      "Poland                           60\n",
      "Portugal                         37\n",
      "Puerto-Rico                     114\n",
      "Scotland                         12\n",
      "South                            80\n",
      "Taiwan                           51\n",
      "Thailand                         18\n",
      "Trinadad&Tobago                  19\n",
      "United-States                 29170\n",
      "Vietnam                          67\n",
      "Yugoslavia                       16\n",
      "dtype: int64\n"
     ]
    }
   ],
   "source": [
    "counts = df.groupby('country').size()\n",
    "print(counts)"
   ]
  },
  {
   "cell_type": "code",
   "execution_count": 6,
   "metadata": {},
   "outputs": [],
   "source": [
    "ml = df[(df.sex == 'Male')]\n",
    "ml_high_income = df[(df.sex == 'Male') & (df.income == '>50K\\n')]\n",
    "\n",
    "fm = df[(df.sex == 'Female')]\n",
    "fm_high_income = df[(df.sex == 'Female') & (df.income == '>50K\\n')]"
   ]
  },
  {
   "cell_type": "code",
   "execution_count": 7,
   "metadata": {},
   "outputs": [
    {
     "name": "stdout",
     "output_type": "stream",
     "text": [
      "The rate of people with high income is:  24 %.\n",
      "The rate of men with high income is:  30 %.\n",
      "The rate of women with high income is:  10 %.\n"
     ]
    }
   ],
   "source": [
    "df1 = df[(df.income == '>50K\\n')]\n",
    "print('The rate of people with high income is: ',\n",
    "     int(len(df1)/float(len(df))*100), '%.')\n",
    "print('The rate of men with high income is: ',\n",
    "     int(len(ml_high_income)/float(len(ml))*100), '%.')\n",
    "print('The rate of women with high income is: ',\n",
    "     int(len(fm_high_income)/float(len(fm))*100), '%.')"
   ]
  },
  {
   "cell_type": "code",
   "execution_count": 8,
   "metadata": {},
   "outputs": [
    {
     "name": "stdout",
     "output_type": "stream",
     "text": [
      "The average age of men is:  39.43354749885268\n",
      "The average age of women is:  36.85823043357163\n",
      "The average age of high-income men is:  44.62578805163614\n",
      "The average age of high-income women is:  42.125530110262936\n"
     ]
    }
   ],
   "source": [
    "print('The average age of men is: ',\n",
    "     ml['age'].mean())\n",
    "print('The average age of women is: ',\n",
    "     fm['age'].mean())\n",
    "\n",
    "print('The average age of high-income men is: ',\n",
    "     ml_high_income['age'].mean())\n",
    "print('The average age of high-income women is: ',\n",
    "     fm_high_income['age'].mean())"
   ]
  },
  {
   "cell_type": "code",
   "execution_count": 9,
   "metadata": {},
   "outputs": [
    {
     "name": "stdout",
     "output_type": "stream",
     "text": [
      "Statistis of age for men: mu: 39.43354749885268  var: 178.77375174530096  std: 13.37063019252649\n",
      "Statistcs of age for women: mu: 36.85823043357163  var: 196.3837063948037  std: 14.01369709943824\n"
     ]
    }
   ],
   "source": [
    "ml_mu = ml['age'].mean()\n",
    "fm_mu = fm['age'].mean()\n",
    "ml_var = ml['age'].var()\n",
    "fm_var = fm['age'].var()\n",
    "ml_std = ml['age'].std()\n",
    "fm_std = fm['age'].std()\n",
    "\n",
    "print('Statistis of age for men: mu:',\n",
    "     ml_mu, ' var:', ml_var, ' std:', ml_std)\n",
    "print('Statistcs of age for women: mu:',\n",
    "     fm_mu, ' var:', fm_var, ' std:', fm_std)"
   ]
  },
  {
   "cell_type": "code",
   "execution_count": 10,
   "metadata": {},
   "outputs": [
    {
     "name": "stdout",
     "output_type": "stream",
     "text": [
      "Median age per men and women:  38.0 35.0\n",
      "Median age per men and women with high income:  44.0 41.0\n"
     ]
    }
   ],
   "source": [
    "ml_median = ml['age'].median()\n",
    "fm_median = fm['age'].median()\n",
    "print('Median age per men and women: ',\n",
    "     ml_median, fm_median)\n",
    "\n",
    "ml_median_age = ml_high_income['age'].median()\n",
    "fm_median_age = fm_high_income['age'].median()\n",
    "print('Median age per men and women with high income: ',\n",
    "     ml_median_age, fm_median_age)"
   ]
  },
  {
   "cell_type": "code",
   "execution_count": 11,
   "metadata": {},
   "outputs": [
    {
     "data": {
      "text/plain": [
       "<matplotlib.axes._subplots.AxesSubplot at 0x286f67f84e0>"
      ]
     },
     "execution_count": 11,
     "metadata": {},
     "output_type": "execute_result"
    },
    {
     "data": {
      "image/png": "[encoded data removed]",
      "text/plain": [
       "<Figure size 432x288 with 1 Axes>"
      ]
     },
     "metadata": {
      "needs_background": "light"
     },
     "output_type": "display_data"
    }
   ],
   "source": [
    "ml_age = ml['age']\n",
    "ml_age.hist(density = 0, histtype = 'stepfilled', bins = 20)"
   ]
  },
  {
   "cell_type": "code",
   "execution_count": 12,
   "metadata": {},
   "outputs": [
    {
     "data": {
      "text/plain": [
       "<matplotlib.axes._subplots.AxesSubplot at 0x286f6b5b470>"
      ]
     },
     "execution_count": 12,
     "metadata": {},
     "output_type": "execute_result"
    },
    {
     "data": {
      "image/png": "[encoded data removed]",
      "text/plain": [
       "<Figure size 432x288 with 1 Axes>"
      ]
     },
     "metadata": {
      "needs_background": "light"
     },
     "output_type": "display_data"
    }
   ],
   "source": [
    "fm_age = fm['age']\n",
    "fm_age.hist(density = 0, histtype = 'stepfilled', bins = 10)"
   ]
  },
  {
   "cell_type": "code",
   "execution_count": 13,
   "metadata": {},
   "outputs": [
    {
     "data": {
      "text/plain": [
       "<matplotlib.axes._subplots.AxesSubplot at 0x286f8d90048>"
      ]
     },
     "execution_count": 13,
     "metadata": {},
     "output_type": "execute_result"
    },
    {
     "data": {
      "image/png": "[encoded data removed]",
      "text/plain": [
       "<Figure size 432x288 with 1 Axes>"
      ]
     },
     "metadata": {
      "needs_background": "light"
     },
     "output_type": "display_data"
    }
   ],
   "source": [
    "import seaborn as sns\n",
    "fm_age.hist(density = 0, histtype = 'stepfilled',\n",
    "           alpha = .5, bins = 20)\n",
    "ml_age.hist(density = 0, histtype = 'stepfilled',\n",
    "           alpha = .5,\n",
    "           color = sns.desaturate('indianred',\n",
    "                                 .75),\n",
    "           bins = 10)"
   ]
  },
  {
   "cell_type": "code",
   "execution_count": 14,
   "metadata": {},
   "outputs": [
    {
     "data": {
      "text/plain": [
       "<matplotlib.axes._subplots.AxesSubplot at 0x286f8de1278>"
      ]
     },
     "execution_count": 14,
     "metadata": {},
     "output_type": "execute_result"
    },
    {
     "data": {
      "image/png": "[encoded data removed]",
      "text/plain": [
       "<Figure size 432x288 with 1 Axes>"
      ]
     },
     "metadata": {
      "needs_background": "light"
     },
     "output_type": "display_data"
    }
   ],
   "source": [
    "fm_age.hist(density = 1, histtype = 'stepfilled',\n",
    "           alpha = .5, bins = 20)\n",
    "ml_age.hist(density = 1, histtype = 'stepfilled',\n",
    "           alpha = .5,\n",
    "           color = sns.desaturate('indianred',\n",
    "                                 .75),\n",
    "           bins = 10)"
   ]
  },
  {
   "cell_type": "code",
   "execution_count": 15,
   "metadata": {},
   "outputs": [
    {
     "data": {
      "text/plain": [
       "<matplotlib.axes._subplots.AxesSubplot at 0x286f8e5bf60>"
      ]
     },
     "execution_count": 15,
     "metadata": {},
     "output_type": "execute_result"
    },
    {
     "data": {
      "image/png": "[encoded data removed]",
      "text/plain": [
       "<Figure size 432x288 with 1 Axes>"
      ]
     },
     "metadata": {
      "needs_background": "light"
     },
     "output_type": "display_data"
    }
   ],
   "source": [
    "ml_age.hist(density = 1, histtype = 'step',\n",
    "           cumulative = True, linewidth = 3.5,\n",
    "           bins = 20)\n",
    "fm_age.hist(density = 1, histtype = 'step',\n",
    "           cumulative = True, linewidth = 3.5,\n",
    "           bins = 20,\n",
    "           color = sns.desaturate('indianred', .75))"
   ]
  },
  {
   "cell_type": "code",
   "execution_count": 16,
   "metadata": {},
   "outputs": [],
   "source": [
    "df2 = df.drop(df.index[\n",
    "    (df.income == '>50K\\n') &\n",
    "    (df['age'] > df['age'].median() + 35) &\n",
    "    (df['age'] > df['age'].median() -15)\n",
    "])\n",
    "\n",
    "ml1_age = ml_high_income['age']\n",
    "fm1_age = fm_high_income['age']\n",
    "\n",
    "ml2_age = ml1_age.drop(ml1_age.index[\n",
    "    (ml1_age > df['age'].median() + 35) &\n",
    "    (ml1_age > df['age'].median() - 15)\n",
    "])\n",
    "\n",
    "fm2_age = fm1_age.drop(fm1_age.index[\n",
    "    (fm1_age > df['age'].median() + 35) &\n",
    "    (fm1_age > df['age'].median() - 15)\n",
    "])"
   ]
  },
  {
   "cell_type": "code",
   "execution_count": 17,
   "metadata": {},
   "outputs": [
    {
     "name": "stdout",
     "output_type": "stream",
     "text": [
      "Men statistics: \n",
      "Mean:  44.317982123920615 Std:  10.019749857171412\n",
      "Median:  44.0\n",
      "Min:  19 Max:  72\n",
      "-------------------------------\n",
      "Women statistics: \n",
      "Mean:  41.877028181041844 Std:  10.036441807343714\n",
      "Median:  41.0\n",
      "Min:  19 Max:  72\n"
     ]
    }
   ],
   "source": [
    "mu2ml = ml2_age.mean()\n",
    "std2ml = ml2_age.std()\n",
    "md2ml = ml2_age.median()\n",
    "mu2fm = fm2_age.mean()\n",
    "std2fm = fm2_age.std()\n",
    "md2fm = fm2_age.median()\n",
    "\n",
    "print('Men statistics: ')\n",
    "print('Mean: ',mu2ml, 'Std: ', std2ml)\n",
    "print('Median: ', md2ml)\n",
    "print('Min: ', ml2_age.min(), 'Max: ', ml2_age.max())\n",
    "print('-------------------------------')\n",
    "print('Women statistics: ')\n",
    "print('Mean: ',mu2fm, 'Std: ', std2fm)\n",
    "print('Median: ', md2fm)\n",
    "print('Min: ', fm2_age.min(), 'Max: ', fm2_age.max())"
   ]
  },
  {
   "cell_type": "code",
   "execution_count": 18,
   "metadata": {},
   "outputs": [
    {
     "data": {
      "text/plain": [
       "<matplotlib.axes._subplots.AxesSubplot at 0x286f8eb5048>"
      ]
     },
     "execution_count": 18,
     "metadata": {},
     "output_type": "execute_result"
    },
    {
     "data": {
      "image/png": "[encoded data removed]",
      "text/plain": [
       "<Figure size 964.8x360 with 1 Axes>"
      ]
     },
     "metadata": {
      "needs_background": "light"
     },
     "output_type": "display_data"
    }
   ],
   "source": [
    "plt.figure(figsize=(13.4, 5))\n",
    "df.age[(df.income == '>50K\\n')].plot(alpha = .25, color='blue')\n",
    "df2.age[(df2.income == '>50K\\n')].plot(alpha = .45, color='red')"
   ]
  },
  {
   "cell_type": "code",
   "execution_count": 19,
   "metadata": {},
   "outputs": [
    {
     "name": "stdout",
     "output_type": "stream",
     "text": [
      "Skewness of te male population =  0.2664443838432819\n",
      "Skewness of te female population =  0.38633352491285977\n"
     ]
    }
   ],
   "source": [
    "def skewness(x):\n",
    "    res = 0\n",
    "    m = x.mean()\n",
    "    s = x.std()\n",
    "    for i in x:\n",
    "        res += (i-m) * (i-m) * (i-m)\n",
    "    res /= (len(x) * s * s * s)\n",
    "    return res\n",
    "\n",
    "print(\"Skewness of te male population = \", skewness(ml2_age))\n",
    "print(\"Skewness of te female population = \", skewness(fm2_age))"
   ]
  },
  {
   "cell_type": "code",
   "execution_count": 20,
   "metadata": {},
   "outputs": [
    {
     "name": "stdout",
     "output_type": "stream",
     "text": [
      "Pearson´s coefficient of the male population =  9.55830402220993\n",
      "Pearson´s coefficient of the female population =  26.40672690728092\n"
     ]
    }
   ],
   "source": [
    "def pearson(x):\n",
    "    return 3*(x.mean() - x.median())*x.std()\n",
    "\n",
    "print('Pearson´s coefficient of the male population = ', pearson(ml2_age))\n",
    "print('Pearson´s coefficient of the female population = ', pearson(fm2_age))"
   ]
  },
  {
   "cell_type": "code",
   "execution_count": 27,
   "metadata": {},
   "outputs": [
    {
     "name": "stdout",
     "output_type": "stream",
     "text": [
      "Kernel density estimation handmade\n"
     ]
    },
    {
     "data": {
      "text/plain": [
       "[<matplotlib.lines.Line2D at 0x286fa792780>]"
      ]
     },
     "execution_count": 27,
     "metadata": {},
     "output_type": "execute_result"
    },
    {
     "data": {
      "image/png": "[encoded data removed]",
      "text/plain": [
       "<Figure size 432x288 with 1 Axes>"
      ]
     },
     "metadata": {
      "needs_background": "light"
     },
     "output_type": "display_data"
    }
   ],
   "source": [
    "print('Kernel density estimation handmade')\n",
    "import scipy\n",
    "\n",
    "x1 = np.random.normal(-1, 0.5, 15)\n",
    "x2 = np.random.normal(6, 1, 10)\n",
    "\n",
    "y = np.r_[x1, x2]\n",
    "# r_ translates slice objects to concatenation along the first axis.\n",
    "x = np.linspace(min(y), max(y), 100)\n",
    "\n",
    "s = 0.4 # Smoothing parameter\n",
    "\n",
    "# Calculate the kernels\n",
    "kernels = np.transpose([scipy.stats.norm.pdf(x, yi, s) for yi in y])\n",
    "plt.plot(x, kernels, 'k:')\n",
    "plt.plot(x, kernels.sum(1), 'r')\n",
    "plt.plot(y, np.zeros(len(y)), 'bo', ms = 10)"
   ]
  },
  {
   "cell_type": "code",
   "execution_count": 28,
   "metadata": {},
   "outputs": [
    {
     "name": "stdout",
     "output_type": "stream",
     "text": [
      "Kernel density estimation Scipy implementation\n"
     ]
    },
    {
     "data": {
      "text/plain": [
       "[<matplotlib.lines.Line2D at 0x286fa7ffa20>]"
      ]
     },
     "execution_count": 28,
     "metadata": {},
     "output_type": "execute_result"
    },
    {
     "data": {
      "image/png": "[encoded data removed]",
      "text/plain": [
       "<Figure size 432x288 with 1 Axes>"
      ]
     },
     "metadata": {
      "needs_background": "light"
     },
     "output_type": "display_data"
    }
   ],
   "source": [
    "from scipy.stats import kde\n",
    "print('Kernel density estimation Scipy implementation')\n",
    "density = kde.gaussian_kde(y)\n",
    "xgrid = np.linspace(x.min(), x.max(), 200)\n",
    "plt.hist(y, bins = 28, density = True)\n",
    "plt.plot(xgrid , density(xgrid), 'r-')"
   ]
  },
  {
   "cell_type": "code",
   "execution_count": null,
   "metadata": {},
   "outputs": [],
   "source": []
  }
 ],
 "metadata": {
  "kernelspec": {
   "display_name": "Python 3",
   "language": "python",
   "name": "python3"
  },
  "language_info": {
   "codemirror_mode": {
    "name": "ipython",
    "version": 3
   },
   "file_extension": ".py",
   "mimetype": "text/x-python",
   "name": "python",
   "nbconvert_exporter": "python",
   "pygments_lexer": "ipython3",
   "version": "3.7.3"
  }
 },
 "nbformat": 4,
 "nbformat_minor": 2
}
